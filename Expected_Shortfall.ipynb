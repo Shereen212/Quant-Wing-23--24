{
  "nbformat": 4,
  "nbformat_minor": 0,
  "metadata": {
    "colab": {
      "provenance": []
    },
    "kernelspec": {
      "name": "python3",
      "display_name": "Python 3"
    },
    "language_info": {
      "name": "python"
    }
  },
  "cells": [
    {
      "cell_type": "code",
      "source": [
        "import yfinance as yf\n",
        "import numpy as np"
      ],
      "metadata": {
        "colab": {
          "base_uri": "https://localhost:8080/"
        },
        "id": "59bFqsnxG9H7",
        "outputId": "181f0a2f-4b06-4810-8c7a-d7c0caf2acb3"
      },
      "execution_count": 2,
      "outputs": [
        {
          "output_type": "stream",
          "name": "stderr",
          "text": [
            "/usr/local/lib/python3.10/dist-packages/yfinance/base.py:48: FutureWarning: The default dtype for empty Series will be 'object' instead of 'float64' in a future version. Specify a dtype explicitly to silence this warning.\n",
            "  _empty_series = pd.Series()\n"
          ]
        }
      ]
    },
    {
      "cell_type": "code",
      "source": [
        "#top 5 stocks\n",
        "top_stocks=['RELIANCE.NS', 'TCS.NS', 'HDFCBANK.NS', 'INFY.NS', 'HINDUNILVR.NS']\n",
        "#download data (1yr)\n",
        "data=yf.download(top_stocks,start=\"2023-01-01\",end=\"2024-01-01\")['Adj Close']\n",
        "#Calculating returns and pct change\n",
        "returns= data.pct_change().dropna()"
      ],
      "metadata": {
        "colab": {
          "base_uri": "https://localhost:8080/"
        },
        "id": "dTZio3ekKosb",
        "outputId": "f030fff6-08a4-4d22-b798-7c4b225c9495"
      },
      "execution_count": 3,
      "outputs": [
        {
          "output_type": "stream",
          "name": "stderr",
          "text": [
            "[*********************100%%**********************]  5 of 5 completed\n"
          ]
        }
      ]
    },
    {
      "cell_type": "code",
      "source": [
        "#Calculate mean returns and standard deviations of each stock\n",
        "mean_returns=returns.mean()\n",
        "std_dev=returns.std()"
      ],
      "metadata": {
        "id": "lJvszKOqLXF8"
      },
      "execution_count": 4,
      "outputs": []
    },
    {
      "cell_type": "code",
      "source": [
        "#Calculate covariance matrix\n",
        "cov_matrix=returns.cov()"
      ],
      "metadata": {
        "id": "RyFGdmvQLpgW"
      },
      "execution_count": 5,
      "outputs": []
    },
    {
      "cell_type": "code",
      "source": [
        "#Generate random portfolios\n",
        "num_portfolios=1000\n",
        "portfolio_weights=np.random.dirichlet(np.ones(len(top_stocks)),size=num_portfolios)"
      ],
      "metadata": {
        "id": "Ewycfpl2L9X4"
      },
      "execution_count": 6,
      "outputs": []
    },
    {
      "cell_type": "code",
      "source": [
        "#Calculate portfolio returns\n",
        "portfolio_returns = np.dot(portfolio_weights, mean_returns)"
      ],
      "metadata": {
        "id": "gv4S5qhKMz_M"
      },
      "execution_count": 7,
      "outputs": []
    },
    {
      "cell_type": "code",
      "source": [
        "#Calculate portfolio std dev using the averaging out method\n",
        "portfolio_std_dev = np.sqrt(np.dot(portfolio_weights*2, std_dev*2) +\n",
        "                             np.dot(np.dot(portfolio_weights, cov_matrix), portfolio_weights.T))\n",
        "print(\"Portfolio Standard Deviation:\",portfolio_std_dev)"
      ],
      "metadata": {
        "colab": {
          "base_uri": "https://localhost:8080/"
        },
        "id": "u3mv4EBoNJ8v",
        "outputId": "53971929-93a9-443b-9da4-f2b9bf1bd34b"
      },
      "execution_count": 9,
      "outputs": [
        {
          "output_type": "stream",
          "name": "stdout",
          "text": [
            "Portfolio Standard Deviation: [[0.20582165 0.21890422 0.21910955 ... 0.21761837 0.21374484 0.22037132]\n",
            " [0.20581536 0.2189555  0.21916954 ... 0.21767589 0.2137734  0.2204192 ]\n",
            " [0.20580928 0.21895855 0.21918114 ... 0.21767713 0.21375814 0.22041211]\n",
            " ...\n",
            " [0.2058058  0.21895242 0.21916465 ... 0.217687   0.21377179 0.22041785]\n",
            " [0.20582216 0.2189385  0.21913462 ... 0.2176603  0.21381375 0.22042589]\n",
            " [0.20582282 0.21895944 0.2191633  ... 0.21768159 0.21380175 0.22043696]]\n"
          ]
        }
      ]
    },
    {
      "cell_type": "code",
      "source": [
        "#Calculate the expected shortfall of the portfolio\n",
        "alpha=0.05#Confidence level\n",
        "portfolio_sorted_returns= np.sort(portfolio_returns)\n",
        "VaR = portfolio_sorted_returns[int(num_portfolios*alpha)]\n",
        "expected_shortfall=portfolio_sorted_returns[:int(num_portfolios*alpha)].mean()\n",
        "print(\"Value at Risk(VaR):\",VaR)\n",
        "print(\"Portfolio Expected Shortfall at {}% confidence level: {:.6f}\".format((1-alpha)*100, expected_shortfall))"
      ],
      "metadata": {
        "colab": {
          "base_uri": "https://localhost:8080/"
        },
        "id": "oTPG1jaUoeyS",
        "outputId": "d442f72d-a860-4281-e6ab-e4d1c35a2348"
      },
      "execution_count": 11,
      "outputs": [
        {
          "output_type": "stream",
          "name": "stdout",
          "text": [
            "Value at Risk(VaR): 0.00032476982828905717\n",
            "Portfolio Expected Shortfall at 95.0% confidence level: 0.000314\n"
          ]
        }
      ]
    },
    {
      "cell_type": "code",
      "source": [],
      "metadata": {
        "id": "N9R3uwOGrBkj"
      },
      "execution_count": null,
      "outputs": []
    }
  ]
}